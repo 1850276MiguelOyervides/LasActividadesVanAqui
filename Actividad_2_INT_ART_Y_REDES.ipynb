{
  "nbformat": 4,
  "nbformat_minor": 0,
  "metadata": {
    "colab": {
      "name": "Actividad_2_INT_ART_Y_REDES.ipynb",
      "provenance": [],
      "collapsed_sections": []
    },
    "kernelspec": {
      "name": "python3",
      "display_name": "Python 3"
    },
    "language_info": {
      "name": "python"
    }
  },
  "cells": [
    {
      "cell_type": "code",
      "source": [
        ""
      ],
      "metadata": {
        "id": "hp0c3oOaI7_i"
      },
      "execution_count": null,
      "outputs": []
    },
    {
      "cell_type": "code",
      "execution_count": null,
      "metadata": {
        "colab": {
          "base_uri": "https://localhost:8080/"
        },
        "id": "hD_4-L-yuZDA",
        "outputId": "502de3a0-5bcb-4798-fba2-8c4e91d67ce8"
      },
      "outputs": [
        {
          "output_type": "stream",
          "name": "stdout",
          "text": [
            "Hola, mucho gusto dime tu nombre\n",
            "Juan\n",
            "Lo sentimos\n"
          ]
        }
      ],
      "source": [
        "#Miguel Angel Oyervides Torres 1850276 IMTC JN1\n",
        "#Ejercicio 1\n",
        "print (\"Hola, mucho gusto dime tu nombre\")\n",
        "name = input()\n",
        "if name == \"Pedro\" or \"Juan\" or \"Ana\":\n",
        "    print(\"Lo sentimos\")\n",
        "else:\n",
        "    print('Mucho gusto, {}'.format(name))"
      ]
    },
    {
      "cell_type": "code",
      "source": [
        "#Miguel Angel Oyervides Torres 1850276 IMTC JN1\n",
        "#Ejercicio 2\n",
        "lista = [1,8,5,0,2,7,6,]\n",
        "lista2 = lista[::-1]\n",
        "print(lista2)\n"
      ],
      "metadata": {
        "colab": {
          "base_uri": "https://localhost:8080/"
        },
        "id": "WcAlw6REv4QK",
        "outputId": "8a4a7348-3085-4c1d-ddf7-43c5f9ec3357"
      },
      "execution_count": null,
      "outputs": [
        {
          "output_type": "stream",
          "name": "stdout",
          "text": [
            "[6, 7, 2, 0, 5, 8, 1]\n"
          ]
        }
      ]
    },
    {
      "cell_type": "code",
      "source": [
        "#Miguel Angel Oyervides Torres 1850276 IMTC JN1\n",
        "#Ejercicio 3\n",
        "def Marco(words):\n",
        "  \n",
        "    size = max(len(word) for word in words)\n",
        "    print(\"*\"*(size+4))\n",
        "\n",
        "    for i in words:\n",
        "      print(\"*\"+\" \"+i+\" \"*((size+4)-len(i)-3)+\"*\")\n",
        "    print(\"*\"*(size+4))   \n",
        "\n",
        "Marco([\"hola\",\"a\",\"todos\",\"esto\",\"es\",\"un\",\"marco\"])"
      ],
      "metadata": {
        "colab": {
          "base_uri": "https://localhost:8080/"
        },
        "id": "ucFvZaWKv4dP",
        "outputId": "f9d8d456-1a65-4777-9d08-b8bdce72b2a7"
      },
      "execution_count": null,
      "outputs": [
        {
          "output_type": "stream",
          "name": "stdout",
          "text": [
            "*********\n",
            "* hola  *\n",
            "* a     *\n",
            "* todos *\n",
            "* esto  *\n",
            "* es    *\n",
            "* un    *\n",
            "* marco *\n",
            "*********\n"
          ]
        }
      ]
    }
  ]
}